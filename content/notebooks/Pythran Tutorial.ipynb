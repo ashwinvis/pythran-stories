{
 "cells": [
  {
   "cell_type": "markdown",
   "metadata": {},
   "source": [
    "## Prelude\n",
    "\n",
    "Pythran is a compiler that turns numerical kernels into native modules.\n",
    "\n",
    "You can download it on:\n",
    "\n",
    "- PyPI: ``pip install pythran``\n",
    "- Conda: ``conda install pythran``\n",
    "\n",
    "Linux, OSX and Windows (through WinPython) are supported.\n",
    "\n",
    "Partial Python3 support."
   ]
  },
  {
   "cell_type": "markdown",
   "metadata": {},
   "source": [
    "# Introduction with Pi computation\n",
    "\n",
    "Computing $\\pi$ is quite old fashined, but it's a good start to learn Pythran!\n",
    "\n",
    "Here is a Fortran-like version:"
   ]
  },
  {
   "cell_type": "code",
   "execution_count": null,
   "metadata": {
    "collapsed": false
   },
   "outputs": [],
   "source": [
    "def pi_approximate(n):\n",
    "    step = 1.0 / n\n",
    "    result = 0   \n",
    "    for i in range(n):\n",
    "        x = (i + 0.5) * step\n",
    "        result += 4.0 / (1.0 + x * x)\n",
    "    return step * result\n",
    "\n",
    "pi_approximate(1000000)"
   ]
  },
  {
   "cell_type": "markdown",
   "metadata": {},
   "source": [
    "We can get a first glimpse of its performance using the ``timeit`` module:"
   ]
  },
  {
   "cell_type": "code",
   "execution_count": null,
   "metadata": {
    "collapsed": false
   },
   "outputs": [],
   "source": [
    "%timeit pi_approximate(1000000)"
   ]
  },
  {
   "cell_type": "markdown",
   "metadata": {
    "collapsed": false
   },
   "source": [
    "Turning this code into Pythran code is relatively easy. First we need to import Pythran:"
   ]
  },
  {
   "cell_type": "code",
   "execution_count": 1,
   "metadata": {
    "collapsed": true
   },
   "outputs": [],
   "source": [
    "import pythran"
   ]
  },
  {
   "cell_type": "markdown",
   "metadata": {},
   "source": [
    "And load it's notebook integration mode:"
   ]
  },
  {
   "cell_type": "code",
   "execution_count": 2,
   "metadata": {
    "collapsed": false
   },
   "outputs": [],
   "source": [
    "%load_ext pythran.magic"
   ]
  },
  {
   "cell_type": "markdown",
   "metadata": {},
   "source": [
    "Now we'll just reproduce the code above, with an additionnal line to tell pythran about the argument type. the return type is infered."
   ]
  },
  {
   "cell_type": "code",
   "execution_count": null,
   "metadata": {
    "collapsed": false
   },
   "outputs": [],
   "source": [
    "%%pythran\n",
    "#pythran export pi_approximate_pythran(int)\n",
    "import numpy as np\n",
    "def pi_approximate_pythran(n):\n",
    "    step = 1.0 / n\n",
    "    result = 0   \n",
    "    for i in range(n):\n",
    "        x = (i + 0.5) * step\n",
    "        result += 4.0 / (1.0 + x * x)\n",
    "    return step * result"
   ]
  },
  {
   "cell_type": "markdown",
   "metadata": {
    "collapsed": true
   },
   "source": [
    "Hopefully, the code behaves the same:"
   ]
  },
  {
   "cell_type": "code",
   "execution_count": null,
   "metadata": {
    "collapsed": false
   },
   "outputs": [],
   "source": [
    "pi_approximate_pythran(1000000)"
   ]
  },
  {
   "cell_type": "markdown",
   "metadata": {},
   "source": [
    "But it runs faster!"
   ]
  },
  {
   "cell_type": "code",
   "execution_count": null,
   "metadata": {
    "collapsed": false
   },
   "outputs": [],
   "source": [
    "%timeit pi_approximate_pythran(1000000)"
   ]
  },
  {
   "cell_type": "markdown",
   "metadata": {},
   "source": [
    "Can we go faster? The astute reader has already noticed that the loop can run in parallel, so let's use OpenMP integration:"
   ]
  },
  {
   "cell_type": "code",
   "execution_count": null,
   "metadata": {
    "collapsed": false
   },
   "outputs": [],
   "source": [
    "%%pythran -fopenmp\n",
    "#pythran export pi_approximate_pythran_omp(int)\n",
    "import numpy as np\n",
    "def pi_approximate_pythran_omp(n):\n",
    "    step = 1.0 / n\n",
    "    result = 0\n",
    "    #omp parallel for reduction(+:result)\n",
    "    for i in range(n):\n",
    "        x = (i + 0.5) * step\n",
    "        result += 4.0 / (1.0 + x * x)\n",
    "    return step * result"
   ]
  },
  {
   "cell_type": "code",
   "execution_count": null,
   "metadata": {
    "collapsed": false
   },
   "outputs": [],
   "source": [
    "%timeit pi_approximate_pythran_omp(1000000)"
   ]
  },
  {
   "cell_type": "markdown",
   "metadata": {},
   "source": [
    "But everything looks very Fortran-ish in this example. Why not trying the following:"
   ]
  },
  {
   "cell_type": "code",
   "execution_count": null,
   "metadata": {
    "collapsed": true
   },
   "outputs": [],
   "source": [
    "import numpy as np\n",
    "def pi_numpy_style(n):\n",
    "    step = 1.0 / n\n",
    "    x = (np.arange(0, n, dtype=np.float64) + 0.5) * step\n",
    "    return step * np.sum(4. / (1. + x ** 2))"
   ]
  },
  {
   "cell_type": "markdown",
   "metadata": {},
   "source": [
    "It works the same, but it's already faster as most of the computations are done using native code:"
   ]
  },
  {
   "cell_type": "code",
   "execution_count": null,
   "metadata": {
    "collapsed": false
   },
   "outputs": [],
   "source": [
    "pi_numpy_style(1000000)"
   ]
  },
  {
   "cell_type": "code",
   "execution_count": null,
   "metadata": {
    "collapsed": false
   },
   "outputs": [],
   "source": [
    "%timeit pi_numpy_style(1000000)"
   ]
  },
  {
   "cell_type": "markdown",
   "metadata": {},
   "source": [
    "Good new! Pythran can also handle this version, without much changes:"
   ]
  },
  {
   "cell_type": "code",
   "execution_count": null,
   "metadata": {
    "collapsed": true
   },
   "outputs": [],
   "source": [
    "%%pythran\n",
    "#pythran export pi_numpy_style_pythran(int)\n",
    "import numpy as np\n",
    "def pi_numpy_style_pythran(n):\n",
    "    step = 1.0 / n\n",
    "    x = (np.arange(0, n, dtype=np.float64) + 0.5) * step\n",
    "    return step * np.sum(4. / (1. + x ** 2))"
   ]
  },
  {
   "cell_type": "markdown",
   "metadata": {},
   "source": [
    "It still works, and runs almost as fast as the numpy-free version converted by Pythran:"
   ]
  },
  {
   "cell_type": "code",
   "execution_count": null,
   "metadata": {
    "collapsed": false
   },
   "outputs": [],
   "source": [
    "pi_numpy_style_pythran(1000000)"
   ]
  },
  {
   "cell_type": "code",
   "execution_count": null,
   "metadata": {
    "collapsed": false
   },
   "outputs": [],
   "source": [
    "%timeit pi_numpy_style_pythran(1000000)"
   ]
  },
  {
   "cell_type": "markdown",
   "metadata": {},
   "source": [
    "Cherry on the cake: Pythran can take advantage of the vectorized code to generate SIMD code:"
   ]
  },
  {
   "cell_type": "code",
   "execution_count": null,
   "metadata": {
    "collapsed": true
   },
   "outputs": [],
   "source": [
    "%%pythran -DUSE_BOOST_SIMD -march=native\n",
    "#pythran export pi_numpy_style_pythran_simd(int)\n",
    "import numpy as np\n",
    "def pi_numpy_style_pythran_simd(n):\n",
    "    step = 1.0 / n\n",
    "    x = (np.arange(0, n, dtype=np.float64) + 0.5) * step\n",
    "    return step * np.sum(4. / (1. + x ** 2))"
   ]
  },
  {
   "cell_type": "code",
   "execution_count": null,
   "metadata": {
    "collapsed": false
   },
   "outputs": [],
   "source": [
    "%timeit pi_numpy_style_pythran_simd(1000000)"
   ]
  },
  {
   "cell_type": "markdown",
   "metadata": {},
   "source": [
    "## Pythran in a nutshell\n",
    "\n",
    "- DSL embeded into Python (no technological debt)\n",
    "- Minimalists type annotations (only the exported functions)\n",
    "- Parallelization and Vectorization are possible\n",
    "- Supports (an already large part of) Numpy and Python builtins"
   ]
  },
  {
   "cell_type": "markdown",
   "metadata": {},
   "source": [
    "# Type Annotations\n",
    "\n",
    "Consider the following function:"
   ]
  },
  {
   "cell_type": "code",
   "execution_count": null,
   "metadata": {
    "collapsed": false
   },
   "outputs": [],
   "source": [
    "def pairwise_distance(X):\n",
    "    return np.sqrt(((X[:, None, :] - X) ** 2).sum(-1))"
   ]
  },
  {
   "cell_type": "markdown",
   "metadata": {},
   "source": [
    "It makes use of fancy indexing, broadcasting and Numpy. And it's polymorphic!"
   ]
  },
  {
   "cell_type": "code",
   "execution_count": null,
   "metadata": {
    "collapsed": false
   },
   "outputs": [],
   "source": [
    "size = 100\n",
    "args32 = np.random.random((size, size)).astype(np.float32)\n",
    "args64 = np.random.random((size, size)).astype(np.float64)  #cast useless\n",
    "%timeit pairwise_distance(args32)\n",
    "%timeit pairwise_distance(args64)"
   ]
  },
  {
   "cell_type": "markdown",
   "metadata": {},
   "source": [
    "Pythran can handle all of this! Note the double export to specify the overloads:"
   ]
  },
  {
   "cell_type": "code",
   "execution_count": null,
   "metadata": {
    "collapsed": false
   },
   "outputs": [],
   "source": [
    "%%pythran\n",
    "import numpy as np\n",
    "#pythran export pairwise_distance_pythran(float32[][])\n",
    "#pythran export pairwise_distance_pythran(float64[:,:])\n",
    "def pairwise_distance_pythran(X):\n",
    "    print X.dtype\n",
    "    return np.sqrt(((X[:, None, :] - X) ** 2).sum(-1))"
   ]
  },
  {
   "cell_type": "code",
   "execution_count": null,
   "metadata": {
    "collapsed": false
   },
   "outputs": [],
   "source": [
    "print pairwise_distance_pythran(args32).dtype\n",
    "%timeit pairwise_distance_pythran(args32)\n",
    "print pairwise_distance_pythran(args64).dtype\n",
    "%timeit pairwise_distance_pythran(args64)"
   ]
  },
  {
   "cell_type": "markdown",
   "metadata": {},
   "source": [
    "Pythran also automatically handles transposed arguments, without making a copy:"
   ]
  },
  {
   "cell_type": "code",
   "execution_count": null,
   "metadata": {
    "collapsed": false
   },
   "outputs": [],
   "source": [
    "pairwise_distance_pythran(args64.T)"
   ]
  },
  {
   "cell_type": "markdown",
   "metadata": {},
   "source": [
    "There's more than arrays and scalars in Pythran types. What about... a tuple of tuple of complex numbers, lists and sets?"
   ]
  },
  {
   "cell_type": "code",
   "execution_count": null,
   "metadata": {
    "collapsed": true
   },
   "outputs": [],
   "source": [
    "%%pythran\n",
    "#pythran export wtf((int, complex128, (int set, int list, int:str dict)))\n",
    "def wtf(x):\n",
    "    return x"
   ]
  },
  {
   "cell_type": "code",
   "execution_count": null,
   "metadata": {
    "collapsed": false
   },
   "outputs": [],
   "source": [
    "wtf(1)"
   ]
  },
  {
   "cell_type": "code",
   "execution_count": null,
   "metadata": {
    "collapsed": false
   },
   "outputs": [],
   "source": [
    "strange_arg = 42, 1 + 1j, ({1, 2, 3}, [1, 2,3], {1: 'unan', 2: 'daou', 3: 'tri'})\n",
    "wtf(strange_arg)"
   ]
  },
  {
   "cell_type": "markdown",
   "metadata": {},
   "source": [
    "Beware that Pythran works on a copy when passing ``tuple``, ``list``, ``set`` or ``dict`` in the Pythran world (it's ok for ``ndarray`` as it does not copy the whole data):"
   ]
  },
  {
   "cell_type": "code",
   "execution_count": null,
   "metadata": {
    "collapsed": false
   },
   "outputs": [],
   "source": [
    "wtf(strange_arg) is strange_arg"
   ]
  },
  {
   "cell_type": "markdown",
   "metadata": {},
   "source": [
    "Sometimes, you feel like using very long function prototypes. In that case use multi-line exports:"
   ]
  },
  {
   "cell_type": "code",
   "execution_count": 3,
   "metadata": {
    "collapsed": false
   },
   "outputs": [],
   "source": [
    "%%pythran\n",
    "\n",
    "#pythran export my(bool,\n",
    "#                  bool,\n",
    "#                  bool,\n",
    "#                  bool)\n",
    "def my(ga, bu, zo, meu):\n",
    "    pass"
   ]
  },
  {
   "cell_type": "code",
   "execution_count": 4,
   "metadata": {
    "collapsed": false
   },
   "outputs": [
    {
     "data": {
      "text/plain": [
       "<function pythranized_91f76c58891b91073f8e4e4dae8d0989.my>"
      ]
     },
     "execution_count": 4,
     "metadata": {},
     "output_type": "execute_result"
    }
   ],
   "source": [
    "my"
   ]
  },
  {
   "cell_type": "code",
   "execution_count": 5,
   "metadata": {
    "collapsed": false
   },
   "outputs": [
    {
     "data": {
      "text/plain": [
       "NoneType"
      ]
     },
     "execution_count": 5,
     "metadata": {},
     "output_type": "execute_result"
    }
   ],
   "source": [
    "type(my(True, True, True, True))"
   ]
  },
  {
   "cell_type": "markdown",
   "metadata": {},
   "source": [
    "Default arguments are taken into account, but they must be exported explictely:"
   ]
  },
  {
   "cell_type": "code",
   "execution_count": 6,
   "metadata": {
    "collapsed": true
   },
   "outputs": [],
   "source": [
    "%%pythran\n",
    "#pythran export pi_numpy_style_pythran_default(int)\n",
    "#pythran export pi_numpy_style_pythran_default()\n",
    "import numpy as np\n",
    "def pi_numpy_style_pythran_default(n=1):\n",
    "    step = 1.0 / n\n",
    "    x = (np.arange(0, n, dtype=np.float64) + 0.5) * step\n",
    "    return step * np.sum(4. / (1. + x ** 2))"
   ]
  },
  {
   "cell_type": "code",
   "execution_count": 7,
   "metadata": {
    "collapsed": false
   },
   "outputs": [
    {
     "data": {
      "text/plain": [
       "3.2"
      ]
     },
     "execution_count": 7,
     "metadata": {},
     "output_type": "execute_result"
    }
   ],
   "source": [
    "pi_numpy_style_pythran_default()"
   ]
  },
  {
   "cell_type": "code",
   "execution_count": 8,
   "metadata": {
    "collapsed": false
   },
   "outputs": [
    {
     "data": {
      "text/plain": [
       "3.1424259850010987"
      ]
     },
     "execution_count": 8,
     "metadata": {},
     "output_type": "execute_result"
    }
   ],
   "source": [
    "pi_numpy_style_pythran_default(10)"
   ]
  },
  {
   "cell_type": "markdown",
   "metadata": {},
   "source": [
    "# Compilation of Numpy Expressions\n",
    "\n",
    "Pythran is well aware of high-level numpy expressions. Consider this function:"
   ]
  },
  {
   "cell_type": "code",
   "execution_count": 10,
   "metadata": {
    "collapsed": false
   },
   "outputs": [],
   "source": [
    "import numpy as np\n",
    "def vibr_energy(harmonic, anharmonic, i):\n",
    "    return np.exp(-harmonic * i - anharmonic * (i ** 2))\n",
    "\n",
    "dat0, dat1 = np.random.random(1000000), np.random.random(1000000)"
   ]
  },
  {
   "cell_type": "code",
   "execution_count": 11,
   "metadata": {
    "collapsed": false
   },
   "outputs": [
    {
     "name": "stdout",
     "output_type": "stream",
     "text": [
      "10 loops, best of 3: 25.7 ms per loop\n"
     ]
    }
   ],
   "source": [
    "%timeit vibr_energy(dat0, dat1, 3.)"
   ]
  },
  {
   "cell_type": "markdown",
   "metadata": {},
   "source": [
    "A typical way to optimize it would be to use the ``numexpr`` package:"
   ]
  },
  {
   "cell_type": "code",
   "execution_count": 12,
   "metadata": {
    "collapsed": false
   },
   "outputs": [],
   "source": [
    "import numexpr as ne\n",
    "def vibr_energy_numexpr(harmonic, anharmonic, i):\n",
    "    return ne.evaluate('exp(-harmonic * i - anharmonic * (i ** 2))')"
   ]
  },
  {
   "cell_type": "code",
   "execution_count": 13,
   "metadata": {
    "collapsed": false
   },
   "outputs": [
    {
     "name": "stdout",
     "output_type": "stream",
     "text": [
      "100 loops, best of 3: 9.82 ms per loop\n"
     ]
    }
   ],
   "source": [
    "vibr_energy_numexpr(dat0, dat1, 3.)  # maybe ne has a cache?\n",
    "%timeit vibr_energy_numexpr(dat0, dat1, 3.)"
   ]
  },
  {
   "cell_type": "markdown",
   "metadata": {},
   "source": [
    "Pythran implements (roughly) the same optimizations as ``numexpr`` does:"
   ]
  },
  {
   "cell_type": "code",
   "execution_count": 18,
   "metadata": {
    "collapsed": false
   },
   "outputs": [],
   "source": [
    "%%pythran -DUSE_BOOST_SIMD -march=native -Ofast -fopenmp\n",
    "\n",
    "import numpy as np\n",
    "#pythran export vibr_energy_pythran(float[], float[], float)\n",
    "\n",
    "def vibr_energy_pythran(harmonic, anharmonic, i):\n",
    "    \n",
    "    return np.exp(-harmonic * i - anharmonic * (i ** 2))"
   ]
  },
  {
   "cell_type": "code",
   "execution_count": 20,
   "metadata": {
    "collapsed": false
   },
   "outputs": [
    {
     "name": "stdout",
     "output_type": "stream",
     "text": [
      "100 loops, best of 3: 4.87 ms per loop\n"
     ]
    }
   ],
   "source": [
    "%timeit vibr_energy_pythran(dat0, dat1, 3.)"
   ]
  },
  {
   "cell_type": "markdown",
   "metadata": {},
   "source": [
    "Remember that Pythran can handle polymorphic code? Then let's try:"
   ]
  },
  {
   "cell_type": "code",
   "execution_count": 21,
   "metadata": {
    "collapsed": true
   },
   "outputs": [],
   "source": [
    "%%pythran\n",
    "import numpy as np\n",
    "#pythran export vibr_energy_pythran(float[], float[], float)\n",
    "#pythran export vibr_energy_pythran(float[], float[], float[])\n",
    "def vibr_energy_pythran(harmonic, anharmonic, i):\n",
    "    return np.exp(-harmonic * i - anharmonic * (i ** 2))"
   ]
  },
  {
   "cell_type": "code",
   "execution_count": 22,
   "metadata": {
    "collapsed": false
   },
   "outputs": [
    {
     "name": "stdout",
     "output_type": "stream",
     "text": [
      "100 loops, best of 3: 12.9 ms per loop\n"
     ]
    }
   ],
   "source": [
    "%timeit vibr_energy_pythran(dat0, dat1, dat0)"
   ]
  },
  {
   "cell_type": "markdown",
   "metadata": {},
   "source": [
    "Broadcasting on the way!"
   ]
  },
  {
   "cell_type": "markdown",
   "metadata": {},
   "source": [
    "# Using Pythran from the Command Line\n",
    "\n",
    "Pythran can be used without a Jupyter notebook! It requires you to\n",
    "\n",
    "1. Write your code to Pythranize into a seperate file;\n",
    "2. Call the Pythran compiler."
   ]
  },
  {
   "cell_type": "code",
   "execution_count": 23,
   "metadata": {
    "collapsed": false
   },
   "outputs": [
    {
     "name": "stdout",
     "output_type": "stream",
     "text": [
      "Writing scrabble.py\n"
     ]
    }
   ],
   "source": [
    "%%file scrabble.py\n",
    "#pythran export scrabble_score(str, str:int dict)\n",
    "def scrabble_score(word, scoretable):\n",
    "    score = 0\n",
    "    for letter in word:\n",
    "        if letter in scoretable:\n",
    "            score += scoretable[letter]\n",
    "    return score\n"
   ]
  },
  {
   "cell_type": "markdown",
   "metadata": {},
   "source": [
    "Using the package API, or simply ``pythran scrabble.py``"
   ]
  },
  {
   "cell_type": "code",
   "execution_count": 24,
   "metadata": {
    "collapsed": false
   },
   "outputs": [
    {
     "name": "stdout",
     "output_type": "stream",
     "text": [
      "\u001b[39mrunning build_ext\u001b[0m\n",
      "\u001b[39mrunning build_src\u001b[0m\n",
      "\u001b[39mbuild_src\u001b[0m\n",
      "\u001b[39mbuilding extension \"scrabble\" sources\u001b[0m\n",
      "\u001b[39mbuild_src: building npy-pkg config files\u001b[0m\n",
      "\u001b[36mnew_compiler returns distutils.unixccompiler.UnixCCompiler\u001b[0m\n",
      "\u001b[32mINFO    \u001b[0m \u001b[34mcustomize UnixCCompiler\u001b[0m\n",
      "\u001b[39mcustomize UnixCCompiler using build_ext\u001b[0m\n",
      "********************************************************************************\n",
      "distutils.unixccompiler.UnixCCompiler\n",
      "linker_exe    = ['x86_64-linux-gnu-gcc', '-pthread']\n",
      "compiler_so   = ['x86_64-linux-gnu-gcc', '-pthread', '-DNDEBUG', '-g', '-fwrapv', '-O2', '-Wall', '-Wstrict-prototypes', '-fno-strict-aliasing', '-g', '-O2', '-fPIC']\n",
      "archiver      = ['x86_64-linux-gnu-gcc-ar', 'rc']\n",
      "preprocessor  = ['x86_64-linux-gnu-gcc', '-pthread', '-E']\n",
      "linker_so     = ['x86_64-linux-gnu-gcc', '-pthread', '-shared', '-Wl,-O1', '-Wl,-Bsymbolic-functions', '-Wl,-z,relro', '-fno-strict-aliasing', '-DNDEBUG', '-g', '-fwrapv', '-O2', '-Wall', '-Wstrict-prototypes', '-Wdate-time', '-D_FORTIFY_SOURCE=2', '-g', '-fstack-protector-strong', '-Wformat', '-Werror=format-security', '-Wl,-z,relro', '-g', '-O2']\n",
      "compiler_cxx  = ['c++', '-pthread']\n",
      "ranlib        = None\n",
      "compiler      = ['x86_64-linux-gnu-gcc', '-pthread', '-DNDEBUG', '-g', '-fwrapv', '-O2', '-Wall', '-Wstrict-prototypes', '-fno-strict-aliasing', '-g', '-O2']\n",
      "libraries     = []\n",
      "library_dirs  = []\n",
      "include_dirs  = ['/usr/include/python2.7']\n",
      "********************************************************************************\n",
      "\u001b[36mnew_compiler returns distutils.unixccompiler.UnixCCompiler\u001b[0m\n",
      "\u001b[32mINFO    \u001b[0m \u001b[34mcustomize UnixCCompiler\u001b[0m\n",
      "\u001b[39mcustomize UnixCCompiler using build_ext\u001b[0m\n",
      "********************************************************************************\n",
      "distutils.unixccompiler.UnixCCompiler\n",
      "linker_exe    = ['x86_64-linux-gnu-gcc', '-pthread']\n",
      "compiler_so   = ['x86_64-linux-gnu-gcc', '-pthread', '-DNDEBUG', '-g', '-fwrapv', '-O2', '-Wall', '-fno-strict-aliasing', '-g', '-O2', '-fPIC']\n",
      "archiver      = ['x86_64-linux-gnu-gcc-ar', 'rc']\n",
      "preprocessor  = ['x86_64-linux-gnu-gcc', '-pthread', '-E']\n",
      "linker_so     = ['x86_64-linux-gnu-gcc', '-pthread', '-shared', '-Wl,-O1', '-Wl,-Bsymbolic-functions', '-Wl,-z,relro', '-fno-strict-aliasing', '-DNDEBUG', '-g', '-fwrapv', '-O2', '-Wall', '-Wstrict-prototypes', '-Wdate-time', '-D_FORTIFY_SOURCE=2', '-g', '-fstack-protector-strong', '-Wformat', '-Werror=format-security', '-Wl,-z,relro', '-g', '-O2']\n",
      "compiler_cxx  = ['c++', '-pthread']\n",
      "ranlib        = None\n",
      "compiler      = ['x86_64-linux-gnu-gcc', '-pthread', '-DNDEBUG', '-g', '-fwrapv', '-O2', '-Wall', '-Wstrict-prototypes', '-fno-strict-aliasing', '-g', '-O2']\n",
      "libraries     = []\n",
      "library_dirs  = []\n",
      "include_dirs  = ['/usr/include/python2.7']\n",
      "********************************************************************************\n",
      "\u001b[39mbuilding 'scrabble' extension\u001b[0m\n",
      "\u001b[39mcompiling C++ sources\u001b[0m\n",
      "\u001b[39mC compiler: c++ -pthread -DNDEBUG -g -fwrapv -O2 -Wall -fno-strict-aliasing -g -O2 -fPIC\n",
      "\u001b[0m\n",
      "\u001b[39mcreating /tmp/tmpiXxCc3/tmp\u001b[0m\n",
      "\u001b[39mcompile options: '-DUSE_GMP -DENABLE_PYTHON_MODULE -I/home/sguelton/sources/pythran/pythran -I/home/sguelton/sources/pythran/pythran/pythonic/patch -I/home/sguelton/.venvs/pythran-demo/local/lib/python2.7/site-packages/numpy/core/include -I/usr/include/python2.7 -c'\n",
      "extra options: '-std=c++11 -fno-math-errno -w -fwhole-program -fvisibility=hidden'\u001b[0m\n",
      "\u001b[39mc++: /tmp/tmpRIF8Kz.cpp\u001b[0m\n",
      "\u001b[36mexec_command(['c++', '-pthread', '-DNDEBUG', '-g', '-fwrapv', '-O2', '-Wall', '-fno-strict-aliasing', '-g', '-O2', '-fPIC', '-DUSE_GMP', '-DENABLE_PYTHON_MODULE', '-I/home/sguelton/sources/pythran/pythran', '-I/home/sguelton/sources/pythran/pythran/pythonic/patch', '-I/home/sguelton/.venvs/pythran-demo/local/lib/python2.7/site-packages/numpy/core/include', '-I/usr/include/python2.7', '-c', '/tmp/tmpRIF8Kz.cpp', '-o', '/tmp/tmpiXxCc3/tmp/tmpRIF8Kz.o', '-std=c++11', '-fno-math-errno', '-w', '-fwhole-program', '-fvisibility=hidden'],)\u001b[0m\n",
      "\u001b[36mRetaining cwd: /home/sguelton/sources/pythran/notebooks\u001b[0m\n",
      "\u001b[36m_preserve_environment([])\u001b[0m\n",
      "\u001b[36m_update_environment(...)\u001b[0m\n",
      "\u001b[36m_exec_command_posix(...)\u001b[0m\n",
      "\u001b[36mRunning os.system('( c++ -pthread -DNDEBUG -g -fwrapv -O2 -Wall -fno-strict-aliasing -g -O2 -fPIC -DUSE_GMP -DENABLE_PYTHON_MODULE -I/home/sguelton/sources/pythran/pythran -I/home/sguelton/sources/pythran/pythran/pythonic/patch -I/home/sguelton/.venvs/pythran-demo/local/lib/python2.7/site-packages/numpy/core/include -I/usr/include/python2.7 -c /tmp/tmpRIF8Kz.cpp -o /tmp/tmpiXxCc3/tmp/tmpRIF8Kz.o -std=c++11 -fno-math-errno -w -fwhole-program -fvisibility=hidden ; echo $? > /tmp/tmpkJNNfR/XwPT61 ) 2>&1 | tee /tmp/tmpkJNNfR/xJbGUl ')\u001b[0m\n",
      "\u001b[36m_update_environment(...)\u001b[0m\n",
      "\u001b[39mc++ -pthread -shared -Wl,-O1 -Wl,-Bsymbolic-functions -Wl,-z,relro -fno-strict-aliasing -DNDEBUG -g -fwrapv -O2 -Wall -Wstrict-prototypes -Wdate-time -D_FORTIFY_SOURCE=2 -g -fstack-protector-strong -Wformat -Werror=format-security -Wl,-z,relro -g -O2 /tmp/tmpiXxCc3/tmp/tmpRIF8Kz.o -lgmp -lgmpxx -lcblas -lblas -o /tmp/tmpsa8TH1/scrabble.so -fvisibility=hidden -Wl,-strip-all\u001b[0m\n",
      "\u001b[36mexec_command(['c++', '-pthread', '-shared', '-Wl,-O1', '-Wl,-Bsymbolic-functions', '-Wl,-z,relro', '-fno-strict-aliasing', '-DNDEBUG', '-g', '-fwrapv', '-O2', '-Wall', '-Wstrict-prototypes', '-Wdate-time', '-D_FORTIFY_SOURCE=2', '-g', '-fstack-protector-strong', '-Wformat', '-Werror=format-security', '-Wl,-z,relro', '-g', '-O2', '/tmp/tmpiXxCc3/tmp/tmpRIF8Kz.o', '-lgmp', '-lgmpxx', '-lcblas', '-lblas', '-o', '/tmp/tmpsa8TH1/scrabble.so', '-fvisibility=hidden', '-Wl,-strip-all'],)\u001b[0m\n",
      "\u001b[36mRetaining cwd: /home/sguelton/sources/pythran/notebooks\u001b[0m\n",
      "\u001b[36m_preserve_environment([])\u001b[0m\n",
      "\u001b[36m_update_environment(...)\u001b[0m\n",
      "\u001b[36m_exec_command_posix(...)\u001b[0m\n",
      "\u001b[36mRunning os.system('( c++ -pthread -shared -Wl,-O1 -Wl,-Bsymbolic-functions -Wl,-z,relro -fno-strict-aliasing -DNDEBUG -g -fwrapv -O2 -Wall -Wstrict-prototypes -Wdate-time -D_FORTIFY_SOURCE=2 -g -fstack-protector-strong -Wformat -Werror=format-security -Wl,-z,relro -g -O2 /tmp/tmpiXxCc3/tmp/tmpRIF8Kz.o -lgmp -lgmpxx -lcblas -lblas -o /tmp/tmpsa8TH1/scrabble.so -fvisibility=hidden -Wl,-strip-all ; echo $? > /tmp/tmpkJNNfR/KjbDFo ) 2>&1 | tee /tmp/tmpkJNNfR/LHI7ms ')\u001b[0m\n",
      "\u001b[36m_update_environment(...)\u001b[0m\n",
      "\u001b[32mINFO    \u001b[0m \u001b[34mGenerated module: scrabble\u001b[0m\n",
      "\u001b[32mINFO    \u001b[0m \u001b[34mOutput: /home/sguelton/sources/pythran/notebooks/scrabble.so\u001b[0m\n"
     ]
    }
   ],
   "source": [
    "!python -m pythran.run -v scrabble.py"
   ]
  },
  {
   "cell_type": "code",
   "execution_count": 25,
   "metadata": {
    "collapsed": true
   },
   "outputs": [],
   "source": [
    "import scrabble"
   ]
  },
  {
   "cell_type": "code",
   "execution_count": 26,
   "metadata": {
    "collapsed": false
   },
   "outputs": [
    {
     "data": {
      "text/plain": [
       "'scrabble.so'"
      ]
     },
     "execution_count": 26,
     "metadata": {},
     "output_type": "execute_result"
    }
   ],
   "source": [
    "scrabble.__file__"
   ]
  },
  {
   "cell_type": "code",
   "execution_count": 27,
   "metadata": {
    "collapsed": false
   },
   "outputs": [
    {
     "data": {
      "text/plain": [
       "8"
      ]
     },
     "execution_count": 27,
     "metadata": {},
     "output_type": "execute_result"
    }
   ],
   "source": [
    "scrabble.scrabble_score(\"hello\", {\"h\": 4, \"e\": 1, \"l\": 1, \"o\": 1})"
   ]
  },
  {
   "cell_type": "markdown",
   "metadata": {},
   "source": [
    "# Using Pythran with distutils\n",
    "\n",
    "Pythran provides some facilities for distutils integration, in the form of a ``PythranExtension``:"
   ]
  },
  {
   "cell_type": "code",
   "execution_count": 28,
   "metadata": {
    "collapsed": false
   },
   "outputs": [
    {
     "name": "stdout",
     "output_type": "stream",
     "text": [
      "Writing setup.py\n"
     ]
    }
   ],
   "source": [
    "%%file setup.py\n",
    "from distutils.core import Extension\n",
    "from setuptools import setup, dist\n",
    "\n",
    "dist.Distribution(dict(setup_requires='pythran'))\n",
    "\n",
    "from pythran import PythranExtension\n",
    "module1 = PythranExtension('demo', sources = ['scrabble.py'])\n",
    "\n",
    "setup(name = 'demo',\n",
    "      version = '1.0',\n",
    "      description = 'This is a demo package',\n",
    "      ext_modules = [module1])\n"
   ]
  },
  {
   "cell_type": "code",
   "execution_count": 29,
   "metadata": {
    "collapsed": false
   },
   "outputs": [
    {
     "name": "stdout",
     "output_type": "stream",
     "text": [
      "\u001b[39mrunning build\u001b[0m\n",
      "\u001b[39mrunning build_ext\u001b[0m\n",
      "\u001b[39mbuilding 'demo' extension\u001b[0m\n",
      "\u001b[39mC compiler: x86_64-linux-gnu-gcc -pthread -DNDEBUG -g -fwrapv -O2 -Wall -Wstrict-prototypes -fno-strict-aliasing -g -O2 -fPIC\n",
      "\u001b[0m\n",
      "\u001b[39mcreating build\u001b[0m\n",
      "\u001b[39mcreating build/temp.linux-x86_64-2.7\u001b[0m\n",
      "\u001b[39mcompile options: '-DUSE_GMP -DENABLE_PYTHON_MODULE -I/home/sguelton/sources/pythran/pythran -I/home/sguelton/sources/pythran/pythran/pythonic/patch -I/usr/include/python2.7 -c'\n",
      "extra options: '-std=c++11 -fno-math-errno -w -fwhole-program -fvisibility=hidden'\u001b[0m\n",
      "\u001b[39mx86_64-linux-gnu-gcc: scrabble.cpp\u001b[0m\n",
      "cc1plus: warning: command line option ‘-Wstrict-prototypes’ is valid for C/ObjC but not for C++\n",
      "\u001b[39mcreating build/lib.linux-x86_64-2.7\u001b[0m\n",
      "\u001b[39mc++ -pthread -shared -Wl,-O1 -Wl,-Bsymbolic-functions -Wl,-z,relro -fno-strict-aliasing -DNDEBUG -g -fwrapv -O2 -Wall -Wstrict-prototypes -Wdate-time -D_FORTIFY_SOURCE=2 -g -fstack-protector-strong -Wformat -Werror=format-security -Wl,-z,relro -g -O2 build/temp.linux-x86_64-2.7/scrabble.o -lgmp -lgmpxx -lcblas -lblas -o build/lib.linux-x86_64-2.7/demo.so -fvisibility=hidden -Wl,-strip-all\u001b[0m\n"
     ]
    }
   ],
   "source": [
    "!python setup.py build -v"
   ]
  },
  {
   "cell_type": "code",
   "execution_count": 30,
   "metadata": {
    "collapsed": false
   },
   "outputs": [
    {
     "name": "stdout",
     "output_type": "stream",
     "text": [
      "\u001b[39mrunning sdist\u001b[0m\r\n",
      "\u001b[39mrunning egg_info\u001b[0m\r\n",
      "\u001b[39mwriting demo.egg-info/PKG-INFO\u001b[0m\r\n",
      "\u001b[39mwriting top-level names to demo.egg-info/top_level.txt\u001b[0m\r\n",
      "\u001b[39mwriting dependency_links to demo.egg-info/dependency_links.txt\u001b[0m\r\n",
      "\u001b[39mreading manifest file 'demo.egg-info/SOURCES.txt'\u001b[0m\r\n",
      "\u001b[39mwriting manifest file 'demo.egg-info/SOURCES.txt'\u001b[0m\r\n",
      "\u001b[31mwarning: sdist: standard file not found: should have one of README, README.rst, README.txt\r\n",
      "\u001b[0m\r\n",
      "\u001b[39mrunning check\u001b[0m\r\n",
      "\u001b[31mwarning: check: missing required meta-data: url\r\n",
      "\u001b[0m\r\n",
      "\u001b[31mwarning: check: missing meta-data: either (author and author_email) or (maintainer and maintainer_email) must be supplied\r\n",
      "\u001b[0m\r\n",
      "\u001b[39mcreating demo-1.0\u001b[0m\r\n",
      "\u001b[39mcreating demo-1.0/demo.egg-info\u001b[0m\r\n",
      "\u001b[39mmaking hard links in demo-1.0...\u001b[0m\r\n",
      "\u001b[39mhard linking scrabble.cpp -> demo-1.0\u001b[0m\r\n",
      "\u001b[39mhard linking setup.py -> demo-1.0\u001b[0m\r\n",
      "\u001b[39mhard linking demo.egg-info/PKG-INFO -> demo-1.0/demo.egg-info\u001b[0m\r\n",
      "\u001b[39mhard linking demo.egg-info/SOURCES.txt -> demo-1.0/demo.egg-info\u001b[0m\r\n",
      "\u001b[39mhard linking demo.egg-info/dependency_links.txt -> demo-1.0/demo.egg-info\u001b[0m\r\n",
      "\u001b[39mhard linking demo.egg-info/top_level.txt -> demo-1.0/demo.egg-info\u001b[0m\r\n",
      "\u001b[39mWriting demo-1.0/setup.cfg\u001b[0m\r\n",
      "\u001b[39mcreating dist\u001b[0m\r\n",
      "\u001b[39mCreating tar archive\u001b[0m\r\n",
      "\u001b[39mremoving 'demo-1.0' (and everything under it)\u001b[0m\r\n"
     ]
    }
   ],
   "source": [
    "!python setup.py sdist"
   ]
  },
  {
   "cell_type": "code",
   "execution_count": 31,
   "metadata": {
    "collapsed": false
   },
   "outputs": [
    {
     "name": "stdout",
     "output_type": "stream",
     "text": [
      "demo-1.0/\r\n",
      "demo-1.0/PKG-INFO\r\n",
      "demo-1.0/scrabble.cpp\r\n",
      "demo-1.0/demo.egg-info/\r\n",
      "demo-1.0/demo.egg-info/PKG-INFO\r\n",
      "demo-1.0/demo.egg-info/SOURCES.txt\r\n",
      "demo-1.0/demo.egg-info/dependency_links.txt\r\n",
      "demo-1.0/demo.egg-info/top_level.txt\r\n",
      "demo-1.0/setup.py\r\n",
      "demo-1.0/setup.cfg\r\n"
     ]
    }
   ],
   "source": [
    "!tar tzf dist/demo-1.0.tar.gz"
   ]
  },
  {
   "cell_type": "markdown",
   "metadata": {
    "collapsed": true
   },
   "source": [
    "# Getting Help\n",
    "\n",
    "- GitHub: https://github.com/serge-sans-paille/pythran\n",
    "- Mailing list: http://www.freelists.org/list/pythran\n",
    "- IRC: #pythran on FreeNode\n",
    "- StackOverflow: http://stackoverflow.com/questions/tagged/pythran"
   ]
  },
  {
   "cell_type": "markdown",
   "metadata": {},
   "source": [
    "# Misc\n",
    "\n",
    "Things you probably don't want to know, but they were fun to implement, so let's talk about them anyway :-)"
   ]
  },
  {
   "cell_type": "markdown",
   "metadata": {},
   "source": [
    "## Functions as regular values"
   ]
  },
  {
   "cell_type": "code",
   "execution_count": 32,
   "metadata": {
    "collapsed": false
   },
   "outputs": [],
   "source": [
    "%%pythran\n",
    "#pythran export modify(int, str)\n",
    "actions = {\"increase\": lambda x: x + 1,\n",
    "           \"decrease\": lambda x: x - 1}\n",
    "\n",
    "def modify(value, action):\n",
    "    what = actions[action]\n",
    "    return what(value)"
   ]
  },
  {
   "cell_type": "code",
   "execution_count": 33,
   "metadata": {
    "collapsed": false
   },
   "outputs": [
    {
     "data": {
      "text/plain": [
       "2"
      ]
     },
     "execution_count": 33,
     "metadata": {},
     "output_type": "execute_result"
    }
   ],
   "source": [
    "modify(1, \"increase\")"
   ]
  },
  {
   "cell_type": "markdown",
   "metadata": {},
   "source": [
    "Passing functions in and out is not supported though."
   ]
  },
  {
   "cell_type": "markdown",
   "metadata": {},
   "source": [
    "## Big Numbers\n",
    "\n",
    "Not widely supported, but it works for simple examples."
   ]
  },
  {
   "cell_type": "code",
   "execution_count": 34,
   "metadata": {
    "collapsed": true
   },
   "outputs": [],
   "source": [
    "%%pythran\n",
    "#pythran export factorize_naive(long)\n",
    "def factorize_naive(n):\n",
    "    if n < 2:\n",
    "        return []\n",
    "    \n",
    "    factors = []\n",
    "    \n",
    "    p = 2L\n",
    "\n",
    "    while True:\n",
    "        if n == 1:\n",
    "            return factors\n",
    "\n",
    "        r = n % p\n",
    "        if r == 0:\n",
    "            factors.append(p)\n",
    "            n = n / p\n",
    "        elif p * p >= n:\n",
    "            factors.append(n)\n",
    "            return factors\n",
    "        elif p > 2:\n",
    "            # Advance in steps of 2 over odd numbers\n",
    "            p += 2\n",
    "        else:\n",
    "            # If p == 2, get to 3\n",
    "            p += 1\n",
    "    assert False, \"unreachable\""
   ]
  },
  {
   "cell_type": "code",
   "execution_count": 38,
   "metadata": {
    "collapsed": false
   },
   "outputs": [
    {
     "name": "stdout",
     "output_type": "stream",
     "text": [
      "1 loop, best of 3: 2 s per loop\n"
     ]
    }
   ],
   "source": [
    "%timeit factorize_naive(3241618756762348687L)"
   ]
  },
  {
   "cell_type": "markdown",
   "metadata": {},
   "source": [
    "### Cleanup before you leave the room ;-)"
   ]
  },
  {
   "cell_type": "code",
   "execution_count": null,
   "metadata": {
    "collapsed": true
   },
   "outputs": [],
   "source": [
    "!rm -rf build dist scrabble.py setup.py scrabble.so # cleanup"
   ]
  }
 ],
 "metadata": {
  "kernelspec": {
   "display_name": "Python 2",
   "language": "python",
   "name": "python2"
  },
  "language_info": {
   "codemirror_mode": {
    "name": "ipython",
    "version": 2
   },
   "file_extension": ".py",
   "mimetype": "text/x-python",
   "name": "python",
   "nbconvert_exporter": "python",
   "pygments_lexer": "ipython2",
   "version": "2.7.11+"
  }
 },
 "nbformat": 4,
 "nbformat_minor": 0
}
