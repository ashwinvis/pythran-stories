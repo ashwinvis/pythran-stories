{
 "cells": [
  {
   "cell_type": "markdown",
   "metadata": {},
   "source": [
    "# Pythran minor version bump\n",
    "\n",
    "So Pythran just got a version bump. The primary goal of this version is to match the upgrade of the ``networkx`` dependency. Pythran now requires ``networkx>=2.0``."
   ]
  },
  {
   "cell_type": "code",
   "execution_count": 1,
   "metadata": {},
   "outputs": [],
   "source": [
    "import pythran"
   ]
  },
  {
   "cell_type": "code",
   "execution_count": 2,
   "metadata": {},
   "outputs": [
    {
     "data": {
      "text/plain": [
       "'0.8.3'"
      ]
     },
     "execution_count": 2,
     "metadata": {},
     "output_type": "execute_result"
    }
   ],
   "source": [
    "pythran.__version__"
   ]
  },
  {
   "cell_type": "markdown",
   "metadata": {},
   "source": [
    "A few extra stuff are bundled in this new version, let's explore them using this notebook.\n",
    "\n",
    "# Fix Jupyter magic\n",
    "\n",
    "Pythran comes with a Jupyter magic cell extension, very similar to Cython's, that makes it possible to compile Python code with Pythran within a cell."
   ]
  },
  {
   "cell_type": "code",
   "execution_count": 3,
   "metadata": {},
   "outputs": [],
   "source": [
    "%load_ext pythran.magic"
   ]
  },
  {
   "cell_type": "code",
   "execution_count": 4,
   "metadata": {},
   "outputs": [],
   "source": [
    "%%pythran\n",
    "#pythran export fma(float[:], float[:], float[:]))\n",
    "def fma(a, b, c):\n",
    "    return a + b * c"
   ]
  },
  {
   "cell_type": "code",
   "execution_count": 5,
   "metadata": {},
   "outputs": [],
   "source": [
    "import numpy as np\n",
    "n = 100000\n",
    "x = np.random.random(n)\n",
    "y = np.random.random(n)\n",
    "z = np.random.random(n)"
   ]
  },
  {
   "cell_type": "code",
   "execution_count": 6,
   "metadata": {},
   "outputs": [
    {
     "name": "stdout",
     "output_type": "stream",
     "text": [
      "89.7 µs ± 3.27 µs per loop (mean ± std. dev. of 7 runs, 10000 loops each)\n"
     ]
    }
   ],
   "source": [
    "%timeit fma(x, y, z)"
   ]
  },
  {
   "cell_type": "markdown",
   "metadata": {},
   "source": [
    "There was a bug when a cell was recompiled with the same textual content, but a new set of options. This is fixed in this version, as showcased by the following cell that compiles the same code with more agressive optimization flags, which results in faster (vectorized) code."
   ]
  },
  {
   "cell_type": "code",
   "execution_count": 7,
   "metadata": {},
   "outputs": [],
   "source": [
    "%%pythran -march=native -Ofast -DUSE_BOOST_SIMD\n",
    "#pythran export fma(float[:], float[:], float[:]))\n",
    "def fma(a, b, c):\n",
    "    return a + b * c"
   ]
  },
  {
   "cell_type": "code",
   "execution_count": 8,
   "metadata": {},
   "outputs": [
    {
     "name": "stdout",
     "output_type": "stream",
     "text": [
      "74 µs ± 288 ns per loop (mean ± std. dev. of 7 runs, 10000 loops each)\n"
     ]
    }
   ],
   "source": [
    "%timeit fma(x, y, z)"
   ]
  },
  {
   "cell_type": "markdown",
   "metadata": {},
   "source": [
    "# Support ``out`` param for ``np.sum``\n",
    "\n",
    "Many ``numpy`` operation accept an ``out`` parameter, as an alternative output array to place the result of the computation. Pythran now supports this parameter for the ``numpy.sum`` and ``numpy.prod`` operations. It makes it possible to avoid an extra copy."
   ]
  },
  {
   "cell_type": "code",
   "execution_count": 9,
   "metadata": {},
   "outputs": [],
   "source": [
    "n = 1000\n",
    "x = np.random.random((n,n))\n",
    "y = np.empty(n)"
   ]
  },
  {
   "cell_type": "code",
   "execution_count": 10,
   "metadata": {},
   "outputs": [],
   "source": [
    "%%pythran\n",
    "#pythran export isum(float[:, :], float[:])\n",
    "def isum(x, y):\n",
    "    import numpy as np\n",
    "    y[:] = np.sum(x, axis=0)\n",
    "    return y"
   ]
  },
  {
   "cell_type": "code",
   "execution_count": 11,
   "metadata": {},
   "outputs": [
    {
     "name": "stdout",
     "output_type": "stream",
     "text": [
      "757 µs ± 11.5 µs per loop (mean ± std. dev. of 7 runs, 1000 loops each)\n"
     ]
    }
   ],
   "source": [
    "%timeit isum(x, y)"
   ]
  },
  {
   "cell_type": "code",
   "execution_count": 12,
   "metadata": {},
   "outputs": [],
   "source": [
    "%%pythran\n",
    "#pythran export isum(float[:, :], float[:])\n",
    "def isum(x, y):\n",
    "    import numpy as np\n",
    "    np.sum(x, axis=0, out=y)\n",
    "    return y"
   ]
  },
  {
   "cell_type": "code",
   "execution_count": 13,
   "metadata": {},
   "outputs": [
    {
     "name": "stdout",
     "output_type": "stream",
     "text": [
      "314 ns ± 0.574 ns per loop (mean ± std. dev. of 7 runs, 1000000 loops each)\n"
     ]
    }
   ],
   "source": [
    "%timeit isum(x, y)"
   ]
  },
  {
   "cell_type": "markdown",
   "metadata": {},
   "source": [
    "# Partial Constant Folding\n",
    "\n",
    "Pythran supports (interprocedrual) constant folding since its very start, and it now also supports a degraded version that folds some operation on ``list`` and `` tuples`` when only part of the arguments is constant."
   ]
  },
  {
   "cell_type": "code",
   "execution_count": 14,
   "metadata": {},
   "outputs": [
    {
     "name": "stdout",
     "output_type": "stream",
     "text": [
      "def replicate(n):\n",
      "    return [n, n, n, n, n, n, n, n]\n"
     ]
    }
   ],
   "source": [
    "import gast as ast\n",
    "from pythran import passmanager, backend\n",
    "from pythran.optimizations import PartialConstantFolding\n",
    "\n",
    "code = '''\n",
    "def replicate(n):\n",
    "    return [n] * 8\n",
    "'''\n",
    "node = ast.parse(code)\n",
    "pm = passmanager.PassManager(\"test\")\n",
    "status, node = pm.apply(PartialConstantFolding, node)\n",
    "print(pm.dump(backend.Python, node))"
   ]
  },
  {
   "cell_type": "markdown",
   "metadata": {},
   "source": [
    "# Better Cython integration\n",
    "\n",
    "Since version 0.8.1, and thanks to the work of [Adrien Guinet](https://twitter.com/adriengnt) funded by [OpenDreamKit](http://opendreamkit.org/), Cython has a Pythran mode to delegate Numpy expression computation to the Pythran engine. It's much more stable now, even if it does *not* mean stable :-)."
   ]
  },
  {
   "cell_type": "code",
   "execution_count": 15,
   "metadata": {},
   "outputs": [],
   "source": [
    "%load_ext Cython"
   ]
  },
  {
   "cell_type": "markdown",
   "metadata": {},
   "source": [
    "Note that the following cell calls Pythran through Cython though Jupyter magic. What a wonderful world!"
   ]
  },
  {
   "cell_type": "code",
   "execution_count": 16,
   "metadata": {},
   "outputs": [],
   "source": [
    "%%cython\n",
    "# cython: language=c++\n",
    "# cython: np_pythran=True\n",
    "\n",
    "import numpy as np\n",
    "cimport numpy as cnp\n",
    "\n",
    "def tax(cnp.ndarray[double, ndim=1] d):\n",
    "    tax_seg1 = d[(d > 256303)] * 0.45 - 16164.53\n",
    "    tax_seg2 = d[(d > 54057) & (d <= 256303)] * 0.42 - 8475.44\n",
    "    seg3 = d[(d > 13769) & (d <= 54057)] - 13769\n",
    "    seg4 = d[(d > 8820) & (d <= 13769)] - 8820\n",
    "    prog_seg3 = seg3 * 0.0000022376 + 0.2397\n",
    "    prog_seg4 = seg4 * 0.0000100727 + 0.14\n",
    "    return (\n",
    "        np.sum(tax_seg1) +\n",
    "        np.sum(tax_seg2) +\n",
    "        np.sum(seg3 * prog_seg3 + 939.57) +\n",
    "        np.sum(seg4 * prog_seg4)\n",
    "    ) / np.sum(d)"
   ]
  },
  {
   "cell_type": "code",
   "execution_count": 17,
   "metadata": {},
   "outputs": [],
   "source": [
    "import numpy as np\n",
    "d = np.random.random(100)"
   ]
  },
  {
   "cell_type": "code",
   "execution_count": 18,
   "metadata": {},
   "outputs": [
    {
     "name": "stdout",
     "output_type": "stream",
     "text": [
      "22.9 µs ± 39.4 ns per loop (mean ± std. dev. of 7 runs, 10000 loops each)\n"
     ]
    }
   ],
   "source": [
    "%timeit tax(d)"
   ]
  },
  {
   "cell_type": "code",
   "execution_count": 19,
   "metadata": {},
   "outputs": [],
   "source": [
    "def tax_numpy(d):\n",
    "    tax_seg1 = d[(d > 256303)] * 0.45 - 16164.53\n",
    "    tax_seg2 = d[(d > 54057) & (d <= 256303)] * 0.42 - 8475.44\n",
    "    seg3 = d[(d > 13769) & (d <= 54057)] - 13769\n",
    "    seg4 = d[(d > 8820) & (d <= 13769)] - 8820\n",
    "    prog_seg3 = seg3 * 0.0000022376 + 0.2397\n",
    "    prog_seg4 = seg4 * 0.0000100727 + 0.14\n",
    "    return (\n",
    "        np.sum(tax_seg1) +\n",
    "        np.sum(tax_seg2) +\n",
    "        np.sum(seg3 * prog_seg3 + 939.57) +\n",
    "        np.sum(seg4 * prog_seg4)\n",
    "    ) / np.sum(d)"
   ]
  },
  {
   "cell_type": "code",
   "execution_count": 20,
   "metadata": {},
   "outputs": [
    {
     "name": "stdout",
     "output_type": "stream",
     "text": [
      "28.9 µs ± 90 ns per loop (mean ± std. dev. of 7 runs, 10000 loops each)\n"
     ]
    }
   ],
   "source": [
    "%timeit tax_numpy(d)"
   ]
  },
  {
   "cell_type": "code",
   "execution_count": 21,
   "metadata": {},
   "outputs": [
    {
     "data": {
      "text/plain": [
       "0.0"
      ]
     },
     "execution_count": 21,
     "metadata": {},
     "output_type": "execute_result"
    }
   ],
   "source": [
    "abs(tax(d) - tax_numpy(d))"
   ]
  },
  {
   "cell_type": "markdown",
   "metadata": {},
   "source": [
    "# That's all folks\n",
    "\n",
    "The release is available on [Github](https://github.com/serge-sans-paille/pythran/tree/0.8.3), on [PyPI](https://pypi.python.org/pypi/pythran) and [Conda](https://anaconda.org/serge-sans-paille/pythran).\n",
    "\n",
    "Thanks to [Finistere](https://github.com/Finistere) for his help, to [paugier](https://github.com/paugier) and [ashwinvis](https://github.com/ashwinvis) for their bug reports.\n",
    "\n",
    "And if you too feel like contributing, the [bug tracker](https://github.com/serge-sans-paille/pythran/issues) is a lively place ;-)"
   ]
  }
 ],
 "metadata": {
  "kernelspec": {
   "display_name": "Python 3",
   "language": "python",
   "name": "python3"
  },
  "language_info": {
   "codemirror_mode": {
    "name": "ipython",
    "version": 3
   },
   "file_extension": ".py",
   "mimetype": "text/x-python",
   "name": "python",
   "nbconvert_exporter": "python",
   "pygments_lexer": "ipython3",
   "version": "3.6.2"
  }
 },
 "nbformat": 4,
 "nbformat_minor": 2
}
