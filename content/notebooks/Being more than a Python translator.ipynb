{
 "cells": [
  {
   "cell_type": "markdown",
   "metadata": {},
   "source": [
    "# Optimizing with Cython\n",
    "\n",
    "[Jake VanderPlas](http://jakevdp.github.io/pages/about.html) recently wrote a [blogpost about Cython](http://jakevdp.github.io/blog/2017/12/11/live-coding-cython-ising-model/), where the following piece of Python code and the associated benchmark can be found:"
   ]
  },
  {
   "cell_type": "code",
   "execution_count": 1,
   "metadata": {},
   "outputs": [],
   "source": [
    "import numpy as np\n",
    "def ising_step(field, beta=0.4):\n",
    "    \n",
    "    N, M = field.shape\n",
    "    for n_offset in range(2):\n",
    "        for m_offset in range(2):\n",
    "            for n in range(n_offset, N, 2):\n",
    "                for m in range(m_offset, M, 2):\n",
    "                    _ising_update(field, n, m, np.float32(beta))\n",
    "    return field\n",
    "\n",
    "def _ising_update(field, n, m, beta):\n",
    "    total = 0\n",
    "    N, M = field.shape\n",
    "    for i in range(n-1, n+2):\n",
    "        for j in range(m-1, m+2):\n",
    "            if i == n and j == m:\n",
    "                continue\n",
    "            total += field[i% N, j% M]\n",
    "    dE = 2 * field[n, m] * total\n",
    "    if dE <= 0:\n",
    "        field[n, m] *= -1\n",
    "    elif np.exp(-dE * beta) > np.random.rand():\n",
    "        field[n, m] *= -1"
   ]
  },
  {
   "cell_type": "code",
   "execution_count": 2,
   "metadata": {},
   "outputs": [
    {
     "name": "stdout",
     "output_type": "stream",
     "text": [
      "1 loop, best of 3: 938 ms per loop\n"
     ]
    }
   ],
   "source": [
    "def random_spin_field(N, M):\n",
    "    return np.random.choice([-1, 1], size=(N, M))\n",
    "field = random_spin_field(200, 200)\n",
    "\n",
    "%timeit ising_step(field)"
   ]
  },
  {
   "cell_type": "markdown",
   "metadata": {},
   "source": [
    "The blogpost also contains a Cython implementation of the same kernel:"
   ]
  },
  {
   "cell_type": "code",
   "execution_count": 3,
   "metadata": {},
   "outputs": [],
   "source": [
    "%load_ext cython"
   ]
  },
  {
   "cell_type": "code",
   "execution_count": 4,
   "metadata": {},
   "outputs": [],
   "source": [
    "%%cython\n",
    "cimport cython\n",
    "\n",
    "import numpy as np\n",
    "cimport numpy as np\n",
    "\n",
    "from libc.math cimport exp\n",
    "from libc.stdlib cimport rand\n",
    "cdef extern from \"limits.h\":\n",
    "    int RAND_MAX\n",
    "\n",
    "\n",
    "@cython.boundscheck(False)\n",
    "@cython.wraparound(False)\n",
    "def cy_ising_step(np.int64_t[:, :] field, float beta=0.4):\n",
    "    cdef int N = field.shape[0]\n",
    "    cdef int M = field.shape[1]\n",
    "    cdef int n_offset, m_offset, n, m\n",
    "    for n_offset in range(2):\n",
    "        for m_offset in range(2):\n",
    "            for n in range(n_offset, N, 2):\n",
    "                for m in range(m_offset, M, 2):\n",
    "                    _cy_ising_update(field, n, m, beta)\n",
    "    return np.array(field)\n",
    "\n",
    "\n",
    "@cython.boundscheck(False)\n",
    "@cython.wraparound(False)\n",
    "cdef _cy_ising_update(np.int64_t[:, :] field, int n, int m, float beta):\n",
    "    cdef int total = 0\n",
    "    cdef int N = field.shape[0]\n",
    "    cdef int M = field.shape[1]\n",
    "    cdef int i, j\n",
    "    for i in range(n-1, n+2):\n",
    "        for j in range(m-1, m+2):\n",
    "            if i == n and j == m:\n",
    "                continue\n",
    "            total += field[i % N, j % M]\n",
    "    cdef float dE = 2 * field[n, m] * total\n",
    "    if dE <= 0:\n",
    "        field[n, m] *= -1\n",
    "    elif exp(-dE * beta) * RAND_MAX > rand():\n",
    "        field[n, m] *= -1\n"
   ]
  },
  {
   "cell_type": "code",
   "execution_count": 5,
   "metadata": {},
   "outputs": [
    {
     "name": "stdout",
     "output_type": "stream",
     "text": [
      "The slowest run took 4.57 times longer than the fastest. This could mean that an intermediate result is being cached.\n",
      "100 loops, best of 3: 8.64 ms per loop\n"
     ]
    }
   ],
   "source": [
    "%timeit cy_ising_step(field)"
   ]
  },
  {
   "cell_type": "markdown",
   "metadata": {},
   "source": [
    "As expected, this is much faster than the Python version which uses explicit loops. Here, Cython is typically used as a *guided translater*. It translates Python code into C code, using the type annotations and the extra Cython directives to drive the translation process, removing most of the calls to the Python C API."
   ]
  },
  {
   "cell_type": "markdown",
   "metadata": {},
   "source": [
    "# Using the Pythran compiler\n",
    "\n",
    "When I wanted to use Pythran to convert the original Python code into native code, I went the traditional Pythran way, i.e. *copy paste the Python code, add a ``#pythran export`` line and that's all folks*. Unfortunately, I ended up with a code roughly two times slower than the Cython version. That's still good with respect to the Python version, but a bit disapointing.\n",
    "\n",
    "So I did some benchmarking, compared the C code generated by Cython and the C++ code generated by Pythran, made sure the compiler flags were similar etc. And I realized that Pythran is using ``int64`` for Python integers, including loop indices, whereas the Cython version of this kernel is specialized to use ``int``. So I was not comparing the same computations. In a similar manner the Pythran version -- just like the Python version -- uses double precision floating pointer numbers, whereas Cython version is specialized to use single precision number.\n",
    "\n",
    "This alone should not explain the difference between the two implementations, but it turns out it does, because one of the hotspot of the program is the modulo computation in the  loop indexing (modulo is a relatively costly operation compared to an add, and even a branch mis predicttion, check this [great table](http://ithare.com/infographics-operation-costs-in-cpu-clock-cycles/) for some reminder about that), and its cost increases with the integer size).\n",
    "\n",
    "After some tinkering, and *without* changing  the original Python code, I managed to get Pythran produce a code that runs faster than the Cython version, without changing the integer type. Demonstration:"
   ]
  },
  {
   "cell_type": "code",
   "execution_count": 6,
   "metadata": {},
   "outputs": [],
   "source": [
    "import pythran\n",
    "%load_ext pythran.magic"
   ]
  },
  {
   "cell_type": "code",
   "execution_count": 7,
   "metadata": {},
   "outputs": [],
   "source": [
    "%%pythran \n",
    "#pythran export ising_step(int64[:,:])\n",
    "\n",
    "import numpy as np\n",
    "def ising_step(field, beta=0.4):\n",
    "    \n",
    "    N, M = field.shape\n",
    "    for n_offset in range(2):\n",
    "        for m_offset in range(2):\n",
    "            for n in range(n_offset, N, 2):\n",
    "                for m in range(m_offset, M, 2):\n",
    "                    _ising_update(field, n, m, beta)\n",
    "    return field\n",
    "\n",
    "def _ising_update(field, n, m, beta):\n",
    "    total = 0\n",
    "    N, M = field.shape\n",
    "    for i in range(n-1, n+2):\n",
    "        for j in range(m-1, m+2):\n",
    "            if i == n and j == m:\n",
    "                continue\n",
    "            total += field[i% N, j% M]\n",
    "    dE = 2 * field[n, m] * total\n",
    "    if dE <= 0:\n",
    "        field[n, m] *= -1\n",
    "    elif np.exp(-dE * beta) > np.random.rand():\n",
    "        field[n, m] *= -1\n"
   ]
  },
  {
   "cell_type": "code",
   "execution_count": 8,
   "metadata": {},
   "outputs": [
    {
     "name": "stdout",
     "output_type": "stream",
     "text": [
      "100 loops, best of 3: 7.76 ms per loop\n"
     ]
    }
   ],
   "source": [
    "%timeit ising_step(field)"
   ]
  },
  {
   "cell_type": "markdown",
   "metadata": {},
   "source": [
    "The timings gets even better if ``beta`` is forced into a single precision float, to match Cython's code, but that's not the goal of this article.\n",
    "\n",
    "So what happened? That's the topic of the second part of this post :-)"
   ]
  },
  {
   "cell_type": "markdown",
   "metadata": {},
   "source": [
    "# Implementing a new Pythran optimization\n",
    "\n",
    "Once one realizes that the above code is bound by the modulo computation, the natural optimization goal becomes to *get rid of the modulo*. One way to do so is to notice that in the two expressions ``i % N`` and ``i % M`` (let us denote them as ``i_n`` and ``i_m``):\n",
    "\n",
    "1. ``i`` and ``j`` are loop induction variables, iterating through an *increasing* range;\n",
    "\n",
    "2. ``N`` and ``M`` are positive values.\n",
    "\n",
    "Thanks to the above properties, instead of computing the modulo each time, it is possible to use the inductive formula ``i_n = i_n + 1 if i_n == N - 1 else O``.\n",
    "\n",
    "``i`` and ``j`` being loop induction variables is relatively simple, Pythran already provides the [tooling for identifier binding](http://serge-sans-paille.github.io/pythran-stories/identifier-binding-computation.html), so binding the identifier ``range`` to the according builtin is not an issue, and walking the [use-def chain](https://en.wikipedia.org/wiki/Use-define_chain) is also within the scope of Pythran analyses.\n",
    "\n",
    "``N`` being positive can be deduced from it's assignment, which results from tuple unpacking of an array shape. And a shape only contains positive numbers.\n",
    "\n",
    "Pythran models the ``shape`` attribute correctly and can see through the type destructuring after a simplification step. Let's showcase that and use it as an opportunity to use some Pythran internals."
   ]
  },
  {
   "cell_type": "code",
   "execution_count": 9,
   "metadata": {},
   "outputs": [],
   "source": [
    "from pythran import passmanager, backend\n",
    "import gast as ast"
   ]
  },
  {
   "cell_type": "markdown",
   "metadata": {},
   "source": [
    "``gast`` is just a thin portability layer over the Python standard ``ast`` module. It provides the same API with a few extra and helps to cope with Python2/Python3 transition."
   ]
  },
  {
   "cell_type": "code",
   "execution_count": 10,
   "metadata": {},
   "outputs": [],
   "source": [
    "code = '''\n",
    "def upper_dim(dat):\n",
    "    M, _ = dat.shape\n",
    "    return M\n",
    "'''\n",
    "node = ast.parse(code)"
   ]
  },
  {
   "cell_type": "markdown",
   "metadata": {},
   "source": [
    "We first instanciate a pass manager to apply Pythran's transformation. A few normalization steps are necessary. These refinments are important for Pythran because it puts the Python AST into a normalized form easier to process for Pythran optimizations."
   ]
  },
  {
   "cell_type": "code",
   "execution_count": 11,
   "metadata": {},
   "outputs": [
    {
     "data": {
      "text/plain": [
       "(True, <gast.gast.Module at 0x7f00c4fa32d0>)"
      ]
     },
     "execution_count": 11,
     "metadata": {},
     "output_type": "execute_result"
    }
   ],
   "source": [
    "from pythran.transformations import NormalizeTuples, NormalizeMethodCalls\n",
    "pm = passmanager.PassManager(\"test\")\n",
    "pm.apply(NormalizeTuples, node)\n",
    "pm.apply(NormalizeMethodCalls, node)"
   ]
  },
  {
   "cell_type": "markdown",
   "metadata": {},
   "source": [
    "True means something got changed in the process, and by using the Python backend of Pythran, we can get back a Python view of the transformed code:"
   ]
  },
  {
   "cell_type": "code",
   "execution_count": 12,
   "metadata": {},
   "outputs": [
    {
     "name": "stdout",
     "output_type": "stream",
     "text": [
      "def upper_dim(dat):\n",
      "    M = __builtin__.getattr(dat, 'shape')[0]\n",
      "    _ = __builtin__.getattr(dat, 'shape')[1]\n",
      "    return M\n"
     ]
    }
   ],
   "source": [
    "print(pm.dump(backend.Python, node))"
   ]
  },
  {
   "cell_type": "markdown",
   "metadata": {},
   "source": [
    "Using the ``RangeValue`` analysis, it is possible to collect range information about the various nodes and variables in this function:"
   ]
  },
  {
   "cell_type": "code",
   "execution_count": 13,
   "metadata": {},
   "outputs": [
    {
     "data": {
      "text/plain": [
       "Interval(low=0, high=inf)"
      ]
     },
     "execution_count": 13,
     "metadata": {},
     "output_type": "execute_result"
    }
   ],
   "source": [
    "from pythran.analyses import RangeValues\n",
    "\n",
    "rv = pm.gather(RangeValues, node)\n",
    "rv['M']"
   ]
  },
  {
   "cell_type": "markdown",
   "metadata": {},
   "source": [
    "In the end given a simple representation of the original code, a (simplified) Pythran pipeline can optimize it into a Python code that can be translated to more efficient native code:"
   ]
  },
  {
   "cell_type": "code",
   "execution_count": 14,
   "metadata": {},
   "outputs": [],
   "source": [
    "code = '''\n",
    "def foo(x):\n",
    "    y = len(x)\n",
    "    for i in range(3):\n",
    "        z = i % y\n",
    "'''\n",
    "node = ast.parse(code)"
   ]
  },
  {
   "cell_type": "code",
   "execution_count": 15,
   "metadata": {},
   "outputs": [
    {
     "name": "stdout",
     "output_type": "stream",
     "text": [
      "def foo(x):\n",
      "    y = __builtin__.len(x)\n",
      "    i_m = ((0 - 1) % y)\n",
      "    for i in __builtin__.xrange(3):\n",
      "        i_m = (0 if ((i_m + 1) == y) else (i_m + 1))\n",
      "        z = i_m\n"
     ]
    }
   ],
   "source": [
    "from pythran.transformations import ExpandBuiltins\n",
    "from pythran.optimizations import ModIndex, IterTransformation\n",
    "pm.apply(ExpandBuiltins, node)\n",
    "pm.apply(IterTransformation, node)\n",
    "pm.apply(ModIndex, node)\n",
    "print(pm.dump(backend.Python, node))"
   ]
  },
  {
   "cell_type": "markdown",
   "metadata": {},
   "source": [
    "Here is a summary of what happens:\n",
    "\n",
    "1. ``Expand Builtins`` makes sure any identifier that is availble because the ``_builtin__`` module (``buitlins`` in Python3) is loaded by default have their full path specified. It turns ``range`` into ``__builtin__.range``.\n",
    "2. ``Iter Tranformation`` turns functions that create list into their counterpart that creats a generator, when it is legal (``map`` → ``itertools.imap`` etc, in Python2 terminology).\n",
    "3. ``Mod Index`` simplifies the modulo operation\n",
    "\n",
    "Extra transformation could be applied, just for the fun of it:\n",
    "    "
   ]
  },
  {
   "cell_type": "code",
   "execution_count": 16,
   "metadata": {},
   "outputs": [
    {
     "name": "stdout",
     "output_type": "stream",
     "text": [
      "def foo(x):\n",
      "    pass\n",
      "    pass\n",
      "    pass\n",
      "    pass\n",
      "    pass\n",
      "    pass\n",
      "    pass\n",
      "    pass\n",
      "    pass\n",
      "    pass\n",
      "    pass\n"
     ]
    }
   ],
   "source": [
    "from pythran.transformations import FalsePolymorphism\n",
    "from pythran.optimizations import DeadCodeElimination, LoopFullUnrolling\n",
    "\n",
    "pm.apply(LoopFullUnrolling, node)\n",
    "pm.apply(FalsePolymorphism, node)  # basically scalar renaming\n",
    "\n",
    "while pm.apply(DeadCodeElimination, node)[0]:\n",
    "    pass\n",
    "print(pm.dump(backend.Python, node))"
   ]
  },
  {
   "cell_type": "markdown",
   "metadata": {},
   "source": [
    "# Conclusion\n",
    "\n",
    "The transformation described in this post could be made more generic (by supporting a broader range of expression as modulo parameter for instance). Still it showcases the underlying idea of Pythran: given enough test cases, it should be possible to pile more and more transformations, so that the user can just write their code, and let the compiler take care of all the details, taking advantage of all the knowledge gathered in the compiler.\n",
    "\n",
    "There's a great benefit to reason at Python level: the builtins provide high-level functionality whose semantic carries information a smart enough compiler can take advantage of."
   ]
  }
 ],
 "metadata": {
  "kernelspec": {
   "display_name": "Python 2",
   "language": "python",
   "name": "python2"
  },
  "language_info": {
   "codemirror_mode": {
    "name": "ipython",
    "version": 2
   },
   "file_extension": ".py",
   "mimetype": "text/x-python",
   "name": "python",
   "nbconvert_exporter": "python",
   "pygments_lexer": "ipython2",
   "version": "2.7.14+"
  }
 },
 "nbformat": 4,
 "nbformat_minor": 2
}
