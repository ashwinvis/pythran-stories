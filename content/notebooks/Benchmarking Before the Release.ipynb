{
 "cells": [
  {
   "cell_type": "markdown",
   "metadata": {},
   "source": [
    "The goal of this notebook is to look for performance regression in Pythran before its release. To do so, several cython kernels have been collected on the World Wide Web, mostly from stackoverflow and blogs.\n",
    "\n",
    "For each kernel, a Numpy version, a Cython version and a Pythran version (which aims to be equal to the Numpy version, with an additional ``#pythran export``) are benchmarked. If Pythran can rip the same performance level as Cython from the Numpy -like code, then it's ok for the release!\n",
    "\n",
    "# Disclaimer\n",
    "\n",
    "Benchmarking is a difficult task. This notebook does not aim to be a reference comparison between Cython and Pythran. So many factors are involved: the developper proficiency in Cython, Numpy and Pythran, the underlying C compiler, or C++ compiler (we made sure they were using the same gcc version, at least), their respective compilation flags (they are different, but both use  ``-O2`` and **not** ``-ffast-math``), the Pythran/Cython version… So take it as it is: a way to make sure the Pythran developpers did not miss an obvious optimization opportunity, or introduced a performance regression. No other conclusions should be made without great care.\n",
    "\n",
    "# Setup\n",
    "\n",
    "The happy few:"
   ]
  },
  {
   "cell_type": "code",
   "execution_count": 1,
   "metadata": {
    "collapsed": false
   },
   "outputs": [],
   "source": [
    "import numpy as np\n",
    "%load_ext Cython\n",
    "%load_ext pythran.magic"
   ]
  },
  {
   "cell_type": "markdown",
   "metadata": {},
   "source": [
    "The benchmarking routine:"
   ]
  },
  {
   "cell_type": "code",
   "execution_count": 2,
   "metadata": {
    "collapsed": false
   },
   "outputs": [],
   "source": [
    "import timeit\n",
    "import pandas\n",
    "from collections import OrderedDict\n",
    "%matplotlib inline\n",
    "def run_bench(functions, sizes, args_factory):\n",
    "    global function, args  # to please timeit\n",
    "    scores = pandas.DataFrame(data=0, columns=functions.keys(), index=sizes)\n",
    "    for size in sizes:\n",
    "        size = int(size)\n",
    "        for name, function in functions.items():\n",
    "            args = args_factory(size)\n",
    "            result = %timeit -q -o function(*args)\n",
    "            scores.loc[size, name] = result.best\n",
    "    return scores"
   ]
  },
  {
   "cell_type": "markdown",
   "metadata": {},
   "source": [
    "# cos_norm\n",
    "\n",
    "*source: [stackoverflow](http://stackoverflow.com/questions/32258905/optimization-and-speedup-of-a-mathematical-function-in-python)*\n",
    "\n",
    "This kernel tests classical element wise operations *à la* Numpy."
   ]
  },
  {
   "cell_type": "code",
   "execution_count": 3,
   "metadata": {
    "collapsed": true
   },
   "outputs": [],
   "source": [
    "def np_cos_norm(a, b):\n",
    "    val = np.sum(1. - np.cos(a-b))\n",
    "    return np.sqrt(val / 2. / a.shape[0])"
   ]
  },
  {
   "cell_type": "code",
   "execution_count": 4,
   "metadata": {
    "collapsed": true
   },
   "outputs": [],
   "source": [
    "%%cython\n",
    "\n",
    "cimport cython\n",
    "cimport numpy as np\n",
    "\n",
    "cdef extern from \"math.h\":\n",
    "    double cos(double x) nogil\n",
    "    double sqrt(double x) nogil\n",
    "\n",
    "def cython_cos_norm(a, b):\n",
    "    return cos_norm_impl(a, b)\n",
    "\n",
    "@cython.boundscheck(False)\n",
    "@cython.wraparound(False)\n",
    "@cython.cdivision(True)\n",
    "cdef double cos_norm_impl(double[::1] a, double[::1] b) nogil:\n",
    "    cdef double res = 0., val\n",
    "    cdef int m = a.shape[0]\n",
    "    # XXX: shape of b not checked\n",
    "    cdef int j\n",
    "\n",
    "    for j in range(m):\n",
    "        val = a[j] - b[j]\n",
    "        res += 1. - cos(val)\n",
    "    res /= 2.*m\n",
    "\n",
    "    return sqrt(res)"
   ]
  },
  {
   "cell_type": "code",
   "execution_count": 5,
   "metadata": {
    "collapsed": false
   },
   "outputs": [],
   "source": [
    "%%pythran\n",
    "\n",
    "#pythran export pythran_cos_norm(float[], float[])\n",
    "import numpy as np\n",
    "def pythran_cos_norm(a, b):\n",
    "    val = np.sum(1. - np.cos(a-b))\n",
    "    return np.sqrt(val / 2. / a.shape[0])"
   ]
  },
  {
   "cell_type": "markdown",
   "metadata": {},
   "source": [
    "## Timings (lower is better)"
   ]
  },
  {
   "cell_type": "code",
   "execution_count": 6,
   "metadata": {
    "collapsed": false
   },
   "outputs": [],
   "source": [
    "cos_norms = OrderedDict([('numpy', np_cos_norm),\n",
    "                         ('cython', cython_cos_norm),\n",
    "                         ('pythran', pythran_cos_norm)])\n",
    "sizes = 1e3, 1e4, 1e5, 1e6\n",
    "def args_factory(size):\n",
    "    return (np.random.random(size).astype('float64'),\n",
    "            np.random.random(size).astype('float64'))\n",
    "scores = run_bench(cos_norms, sizes, args_factory)"
   ]
  },
  {
   "cell_type": "code",
   "execution_count": 7,
   "metadata": {
    "collapsed": false
   },
   "outputs": [
    {
     "data": {
      "text/plain": [
       "<matplotlib.axes._subplots.AxesSubplot at 0x7fa4eb26c2d0>"
      ]
     },
     "execution_count": 7,
     "metadata": {},
     "output_type": "execute_result"
    },
    {
     "data": {
      "image/png": "[encoded data removed]",
      "text/plain": [
       "<matplotlib.figure.Figure at 0x7fa4eb25d9d0>"
      ]
     },
     "metadata": {},
     "output_type": "display_data"
    }
   ],
   "source": [
    "scores.plot()"
   ]
  },
  {
   "cell_type": "markdown",
   "metadata": {},
   "source": [
    "That's unexpected! The reason why we go faster than Cython is the ``cos`` routine, as we use [nt2](http://nt2.numscale.com/) implementation that proves to be very efficient (it has a few shortpaths). Switching back to ``std::cos`` gives the same execution time has Cython."
   ]
  },
  {
   "cell_type": "markdown",
   "metadata": {},
   "source": [
    "# Grayscott\n",
    "\n",
    "*source: [stackoverflow](http://stackoverflow.com/questions/26823312/numba-or-cython-acceleration-in-reaction-diffusion-algorithm)*\n",
    "\n",
    "This kernel tests complex array interactions: slices, element-wise operations, everything into a regular loop!"
   ]
  },
  {
   "cell_type": "code",
   "execution_count": 8,
   "metadata": {
    "collapsed": true
   },
   "outputs": [],
   "source": [
    "def np_grayscott(counts, Du, Dv, F, k):\n",
    "    n = 300\n",
    "    U = np.zeros((n+2,n+2), dtype=np.float_)\n",
    "    V = np.zeros((n+2,n+2), dtype=np.float_)\n",
    "    u, v = U[1:-1,1:-1], V[1:-1,1:-1]\n",
    "\n",
    "    r = 20\n",
    "    u[:] = 1.0\n",
    "    U[n/2-r:n/2+r,n/2-r:n/2+r] = 0.50\n",
    "    V[n/2-r:n/2+r,n/2-r:n/2+r] = 0.25\n",
    "    u += 0.15*np.random.random((n,n))\n",
    "    v += 0.15*np.random.random((n,n))\n",
    "\n",
    "    for i in range(counts):\n",
    "        Lu = (                 U[0:-2,1:-1] +\n",
    "              U[1:-1,0:-2] - 4*U[1:-1,1:-1] + U[1:-1,2:] +\n",
    "                               U[2:  ,1:-1] )\n",
    "        Lv = (                 V[0:-2,1:-1] +\n",
    "              V[1:-1,0:-2] - 4*V[1:-1,1:-1] + V[1:-1,2:] +\n",
    "                               V[2:  ,1:-1] )\n",
    "        uvv = u*v*v\n",
    "        u += Du*Lu - uvv + F*(1 - u)\n",
    "        v += Dv*Lv + uvv - (F + k)*v\n",
    "\n",
    "    return V"
   ]
  },
  {
   "cell_type": "code",
   "execution_count": 9,
   "metadata": {
    "collapsed": true
   },
   "outputs": [],
   "source": [
    "%%cython\n",
    "\n",
    "cimport cython\n",
    "import numpy as np\n",
    "cimport numpy as np\n",
    "\n",
    "@cython.boundscheck(False)\n",
    "@cython.wraparound(False)\n",
    "@cython.cdivision(True)\n",
    "cpdef cython_grayscott(int counts, double Du, double Dv, double F, double k):\n",
    "    cdef int n = 300\n",
    "    cdef np.ndarray U = np.zeros((n+2,n+2), dtype=np.float_)\n",
    "    cdef np.ndarray V = np.zeros((n+2,n+2), dtype=np.float_)\n",
    "    cdef np.ndarray u = U[1:-1,1:-1]\n",
    "    cdef np.ndarray v = V[1:-1,1:-1]\n",
    "\n",
    "    cdef int r = 20\n",
    "    u[:] = 1.0\n",
    "    U[n/2-r:n/2+r,n/2-r:n/2+r] = 0.50\n",
    "    V[n/2-r:n/2+r,n/2-r:n/2+r] = 0.25\n",
    "    u += 0.15*np.random.random((n,n))\n",
    "    v += 0.15*np.random.random((n,n))\n",
    "\n",
    "    cdef np.ndarray Lu = np.zeros_like(u)\n",
    "    cdef np.ndarray Lv = np.zeros_like(v)\n",
    "    cdef int i, c, r1, c1, r2, c2\n",
    "    cdef double uvv\n",
    "\n",
    "    cdef double[:, ::1] bU = U\n",
    "    cdef double[:, ::1] bV = V\n",
    "    cdef double[:, ::1] bLu = Lu\n",
    "    cdef double[:, ::1] bLv = Lv\n",
    "\n",
    "    for i in range(counts):\n",
    "        for r in range(n):\n",
    "            r1 = r + 1\n",
    "            r2 = r + 2\n",
    "            for c in range(n):\n",
    "                c1 = c + 1\n",
    "                c2 = c + 2\n",
    "                bLu[r,c] = bU[r1,c2] + bU[r1,c] + bU[r2,c1] + bU[r,c1] - 4*bU[r1,c1]\n",
    "                bLv[r,c] = bV[r1,c2] + bV[r1,c] + bV[r2,c1] + bV[r,c1] - 4*bV[r1,c1]\n",
    "\n",
    "        for r in range(n):\n",
    "            r1 = r + 1\n",
    "            for c in range(n):\n",
    "                c1 = c + 1\n",
    "                uvv = bU[r1,c1]*bV[r1,c1]*bV[r1,c1]\n",
    "                bU[r1,c1] += Du*bLu[r,c] - uvv + F*(1 - bU[r1,c1])\n",
    "                bV[r1,c1] += Dv*bLv[r,c] + uvv - (F + k)*bV[r1,c1]\n",
    "\n",
    "    return V"
   ]
  },
  {
   "cell_type": "code",
   "execution_count": 10,
   "metadata": {
    "collapsed": false
   },
   "outputs": [],
   "source": [
    "%%pythran\n",
    "\n",
    "#pythran export pythran_grayscott(int, float, float, float, float)\n",
    "import numpy as np\n",
    "def pythran_grayscott(counts, Du, Dv, F, k):\n",
    "    n = 300\n",
    "    U = np.zeros((n+2,n+2), dtype=np.float_)\n",
    "    V = np.zeros((n+2,n+2), dtype=np.float_)\n",
    "    u, v = U[1:-1,1:-1], V[1:-1,1:-1]\n",
    "\n",
    "    r = 20\n",
    "    u[:] = 1.0\n",
    "    U[n/2-r:n/2+r,n/2-r:n/2+r] = 0.50\n",
    "    V[n/2-r:n/2+r,n/2-r:n/2+r] = 0.25\n",
    "    u += 0.15*np.random.random((n,n))\n",
    "    v += 0.15*np.random.random((n,n))\n",
    "\n",
    "    for i in range(counts):\n",
    "        Lu = (                 U[0:-2,1:-1] +\n",
    "              U[1:-1,0:-2] - 4*U[1:-1,1:-1] + U[1:-1,2:] +\n",
    "                               U[2:  ,1:-1] )\n",
    "        Lv = (                 V[0:-2,1:-1] +\n",
    "              V[1:-1,0:-2] - 4*V[1:-1,1:-1] + V[1:-1,2:] +\n",
    "                               V[2:  ,1:-1] )\n",
    "        uvv = u*v*v\n",
    "        u += Du*Lu - uvv + F*(1 - u)\n",
    "        v += Dv*Lv + uvv - (F + k)*v\n",
    "\n",
    "    return V"
   ]
  },
  {
   "cell_type": "markdown",
   "metadata": {},
   "source": [
    "## Timings (lower is better)"
   ]
  },
  {
   "cell_type": "code",
   "execution_count": 11,
   "metadata": {
    "collapsed": false
   },
   "outputs": [],
   "source": [
    "grayscotts = OrderedDict([('numpy', np_grayscott),\n",
    "                          ('cython', cython_grayscott),\n",
    "                          ('pythran', pythran_grayscott)])\n",
    "sizes = 1e1, 5e1, 1e2, 5e2, 1e3\n",
    "def args_factory(size):\n",
    "    return size, 0.16, 0.08, 0.04, 0.06\n",
    "scores = run_bench(grayscotts, sizes, args_factory)"
   ]
  },
  {
   "cell_type": "code",
   "execution_count": 12,
   "metadata": {
    "collapsed": false
   },
   "outputs": [
    {
     "data": {
      "text/plain": [
       "<matplotlib.axes._subplots.AxesSubplot at 0x7fa4e5f8ff10>"
      ]
     },
     "execution_count": 12,
     "metadata": {},
     "output_type": "execute_result"
    },
    {
     "data": {
      "image/png": "[encoded data removed]",
      "text/plain": [
       "<matplotlib.figure.Figure at 0x7fa4e5f8f7d0>"
      ]
     },
     "metadata": {},
     "output_type": "display_data"
    }
   ],
   "source": [
    "scores.plot()"
   ]
  },
  {
   "cell_type": "markdown",
   "metadata": {},
   "source": [
    "We have a small issue there. Need to investigate! Still a decent speedup though."
   ]
  },
  {
   "cell_type": "markdown",
   "metadata": {},
   "source": [
    "# clip\n",
    "\n",
    "*source: [pythran issue](https://github.com/serge-sans-paille/pythran/issues/433)*\n",
    "\n",
    "This kernel tests conditionnal assignment (through ``np.where``) and array of complex numbers."
   ]
  },
  {
   "cell_type": "code",
   "execution_count": 13,
   "metadata": {
    "collapsed": true
   },
   "outputs": [],
   "source": [
    "def np_clip(z, _max):\n",
    "    return np.where(np.abs(z) > _max, z/np.abs(z) * _max, z)"
   ]
  },
  {
   "cell_type": "code",
   "execution_count": 14,
   "metadata": {
    "collapsed": false
   },
   "outputs": [],
   "source": [
    "%%cython\n",
    "\n",
    "cimport cython\n",
    "import numpy as np\n",
    "cimport numpy as np\n",
    "\n",
    "cdef extern from \"complex.h\":\n",
    "    double cabs(double complex x) nogil\n",
    "\n",
    "@cython.boundscheck(False)\n",
    "@cython.wraparound(False)\n",
    "@cython.cdivision(True)\n",
    "cpdef cython_clip (double complex[::1] z, double _max):\n",
    "    cdef np.ndarray out_ = np.empty_like(z)\n",
    "    cdef int n = len(z), i\n",
    "    cdef double complex[::1] out = out_\n",
    "    for i in range (n):\n",
    "        if cabs(z[i]) > _max:\n",
    "            out[i] = z[i]/cabs(z[i]) * _max\n",
    "        else:\n",
    "            out[i] = z[i]\n",
    "\n",
    "    return out"
   ]
  },
  {
   "cell_type": "code",
   "execution_count": 15,
   "metadata": {
    "collapsed": false
   },
   "outputs": [],
   "source": [
    "%%pythran\n",
    "\n",
    "#pythran export pythran_clip(complex128[], float64)\n",
    "import numpy as np\n",
    "def pythran_clip(z, _max):\n",
    "    return np.where(np.abs(z) > _max, z/np.abs(z) * _max, z)"
   ]
  },
  {
   "cell_type": "markdown",
   "metadata": {},
   "source": [
    "## Timings (lower is better)"
   ]
  },
  {
   "cell_type": "code",
   "execution_count": 16,
   "metadata": {
    "collapsed": false
   },
   "outputs": [],
   "source": [
    "clips = OrderedDict([('numpy', np_clip),\n",
    "                     ('cython', cython_clip),\n",
    "                     ('pythran', pythran_clip)])\n",
    "sizes = 1e2, 1e3, 1e4, 1e5, 1e6\n",
    "def args_factory(size):\n",
    "    return np.arange(size, dtype=complex) * complex(1,1), size/2\n",
    "scores = run_bench(clips, sizes, args_factory)"
   ]
  },
  {
   "cell_type": "code",
   "execution_count": 17,
   "metadata": {
    "collapsed": false
   },
   "outputs": [
    {
     "data": {
      "text/plain": [
       "<matplotlib.axes._subplots.AxesSubplot at 0x7fa4eb4e8990>"
      ]
     },
     "execution_count": 17,
     "metadata": {},
     "output_type": "execute_result"
    },
    {
     "data": {
      "image/png": "[encoded data removed]",
      "text/plain": [
       "<matplotlib.figure.Figure at 0x7fa4e596dad0>"
      ]
     },
     "metadata": {},
     "output_type": "display_data"
    }
   ],
   "source": [
    "scores.plot()"
   ]
  },
  {
   "cell_type": "markdown",
   "metadata": {},
   "source": [
    "Nice! Brest! Slightly worse than Cython, but we could improve this by implementing common subexpression elimination at the array level."
   ]
  },
  {
   "cell_type": "markdown",
   "metadata": {},
   "source": [
    "# Pariwise distance\n",
    "\n",
    "*sources: [jakevdp blog](http://jakevdp.github.io/blog/2012/08/24/numba-vs-cython/) and\n",
    "[Anaconda blog](https://anaconda.org/tonyfast/numbacythonredux/notebook)*\n",
    "\n",
    "This kernel tests Numpy's broadcasting."
   ]
  },
  {
   "cell_type": "code",
   "execution_count": 18,
   "metadata": {
    "collapsed": true
   },
   "outputs": [],
   "source": [
    "def np_pairwise(X):\n",
    "    return np.sqrt(((X[:, None, :] - X) ** 2).sum(-1))"
   ]
  },
  {
   "cell_type": "code",
   "execution_count": 19,
   "metadata": {
    "collapsed": true
   },
   "outputs": [],
   "source": [
    "%%cython\n",
    "\n",
    "import numpy as np\n",
    "cimport cython\n",
    "from libc.math cimport sqrt\n",
    "\n",
    "@cython.boundscheck(False)\n",
    "@cython.wraparound(False)\n",
    "def cython_pairwise(double[:, ::1] X):\n",
    "    cdef int M = X.shape[0]\n",
    "    cdef int N = X.shape[1]\n",
    "    cdef double tmp, d\n",
    "    cdef double[:, ::1] D = np.empty((M, M), dtype=np.float64)\n",
    "    for i in range(M):\n",
    "        for j in range(M):\n",
    "            d = 0.0\n",
    "            for k in range(N):\n",
    "                tmp = X[i, k] - X[j, k]\n",
    "                d += tmp * tmp\n",
    "            D[i, j] = sqrt(d)\n",
    "    return np.asarray(D)"
   ]
  },
  {
   "cell_type": "code",
   "execution_count": 20,
   "metadata": {
    "collapsed": false
   },
   "outputs": [],
   "source": [
    "%%pythran\n",
    "\n",
    "#pythran export pythran_pairwise(float64 [][])\n",
    "import numpy as np\n",
    "def pythran_pairwise(X):\n",
    "    return np.sqrt(((X[:, None, :] - X) ** 2).sum(-1))"
   ]
  },
  {
   "cell_type": "markdown",
   "metadata": {},
   "source": [
    "## Timings"
   ]
  },
  {
   "cell_type": "code",
   "execution_count": 21,
   "metadata": {
    "collapsed": false
   },
   "outputs": [],
   "source": [
    "pairwises = OrderedDict([('numpy', np_pairwise),\n",
    "                         ('cython', cython_pairwise),\n",
    "                         ('pythran', pythran_pairwise)])\n",
    "sizes = 0.5e2, 1e2, 2.5e2, 5e2\n",
    "def args_factory(size):\n",
    "    return np.random.random((size, size)),\n",
    "scores = run_bench(pairwises, sizes, args_factory)"
   ]
  },
  {
   "cell_type": "code",
   "execution_count": 22,
   "metadata": {
    "collapsed": false
   },
   "outputs": [
    {
     "data": {
      "text/plain": [
       "<matplotlib.axes._subplots.AxesSubplot at 0x7fa4eb44ab10>"
      ]
     },
     "execution_count": 22,
     "metadata": {},
     "output_type": "execute_result"
    },
    {
     "data": {
      "image/png": "[encoded data removed]",
      "text/plain": [
       "<matplotlib.figure.Figure at 0x7fa4eb43fed0>"
      ]
     },
     "metadata": {},
     "output_type": "display_data"
    }
   ],
   "source": [
    "scores.plot()"
   ]
  },
  {
   "cell_type": "markdown",
   "metadata": {},
   "source": [
    "Wooo! Being able to compile this expression down to something that matches Cython's generated code is an achivement :-)"
   ]
  },
  {
   "cell_type": "markdown",
   "metadata": {
    "collapsed": true
   },
   "source": [
    "# lu factorization\n",
    "\n",
    "*source: [jfp blog](https://www.ibm.com/developerworks/community/blogs/jfp/entry/A_Comparison_Of_C_Julia_Python_Numba_Cython_Scipy_and_BLAS_on_LU_Factorization)*\n",
    "\n",
    "This kernel tests interaction between Numpy arrays, slices and regular loops."
   ]
  },
  {
   "cell_type": "code",
   "execution_count": 23,
   "metadata": {
    "collapsed": true
   },
   "outputs": [],
   "source": [
    "def np_det_by_lu(y, x):\n",
    "    y[0] = 1.\n",
    "\n",
    "    N = x.shape[0]\n",
    "    with np.errstate(invalid='ignore'):\n",
    "        for k in range(N):\n",
    "            y[0] *= x[k,k]\n",
    "            xk = x[k]\n",
    "            for i in range(k+1, N):\n",
    "                xi = x[i]\n",
    "                xi[k] /= xk[k]\n",
    "                xi[k+1:] -= xi[k] * xk[k+1:]\n",
    "\n"
   ]
  },
  {
   "cell_type": "code",
   "execution_count": 24,
   "metadata": {
    "collapsed": false
   },
   "outputs": [],
   "source": [
    "%%cython\n",
    "\n",
    "import cython\n",
    "\n",
    "@cython.boundscheck(False)\n",
    "@cython.wraparound(False)\n",
    "cpdef cython_det_by_lu(double[:] y, double[:,:] x):\n",
    "    y[0] = 1.\n",
    "\n",
    "    cdef int N = x.shape[0]\n",
    "    cdef int i,j,k\n",
    "\n",
    "    for k in range(N):\n",
    "        y[0] *= x[k,k]\n",
    "        for i in range(k+1, N):\n",
    "            x[i,k] /= x[k,k]\n",
    "            for j in range(k+1, N):\n",
    "                x[i,j] -= x[i,k] * x[k,j]\n",
    "\n"
   ]
  },
  {
   "cell_type": "code",
   "execution_count": 25,
   "metadata": {
    "collapsed": false
   },
   "outputs": [],
   "source": [
    "%%pythran\n",
    "#pythran export pythran_det_by_lu(float64 [:], float64[:,:])\n",
    "def pythran_det_by_lu(y, x):\n",
    "    y[0] = 1.\n",
    "    N = x.shape[0]\n",
    "    \n",
    "    for k in range(N):\n",
    "        y[0] *= x[k,k]\n",
    "        xk = x[k]\n",
    "        for i in range(k+1, N):\n",
    "            xi = x[i]\n",
    "            xi[k] /= xk[k]\n",
    "            xi[k+1:] -= xi[k] * xk[k+1:]"
   ]
  },
  {
   "cell_type": "markdown",
   "metadata": {},
   "source": [
    "## Timings"
   ]
  },
  {
   "cell_type": "code",
   "execution_count": 26,
   "metadata": {
    "collapsed": true
   },
   "outputs": [],
   "source": [
    "det_by_lus = OrderedDict([('numpy', np_det_by_lu),\n",
    "                          ('cython', cython_det_by_lu),\n",
    "                          ('pythran', pythran_det_by_lu)])\n",
    "sizes = 1e2, 2.5e2, 5e2; 7.5e2, 1e3\n",
    "def args_factory(size):\n",
    "    return np.random.random(size), np.random.random((size, size))\n",
    "scores = run_bench(det_by_lus, sizes, args_factory)"
   ]
  },
  {
   "cell_type": "code",
   "execution_count": 27,
   "metadata": {
    "collapsed": false
   },
   "outputs": [
    {
     "data": {
      "text/plain": [
       "<matplotlib.axes._subplots.AxesSubplot at 0x7fa4eb4b66d0>"
      ]
     },
     "execution_count": 27,
     "metadata": {},
     "output_type": "execute_result"
    },
    {
     "data": {
      "image/png": "[encoded data removed]",
      "text/plain": [
       "<matplotlib.figure.Figure at 0x7fa4e5feed50>"
      ]
     },
     "metadata": {},
     "output_type": "display_data"
    }
   ],
   "source": [
    "scores.plot()"
   ]
  },
  {
   "cell_type": "markdown",
   "metadata": {},
   "source": [
    "On par with Cython, checked! Note that both Cython and Pythran kernel don't handle errors as Numpy kernel does…"
   ]
  },
  {
   "cell_type": "markdown",
   "metadata": {},
   "source": [
    "# Conclusion\n",
    "\n",
    "Ready for release? Looks like everything is ok, we're most of the time not far from cython, while keeping the Numpy high-level calls ``\\o/``\n",
    "\n",
    "# Acknowledgments\n",
    "\n",
    "Thanks a lot to the authors of the cited blogs / stackoverflow threads for providing stimulating code samples. I did improve my cython king-fu a lot thanks to you!\n",
    "\n",
    "(by order of apparition)\n",
    "\n",
    "- [NoExit](http://stackoverflow.com/users/5273154/noexit)\n",
    "- [ev-br](http://stackoverflow.com/users/143765/ev-br)\n",
    "- [snotna](http://stackoverflow.com/users/4231346/snotna)\n",
    "- [HYRY](http://stackoverflow.com/users/772649/hyry)\n",
    "- [ndbecker](https://github.com/nbecker)\n",
    "- [pbrunet](https://github.com/pbrunet)\n",
    "- [Jake VanderPlas](http://staff.washington.edu/jakevdp/)\n",
    "- [tonyfast](https://anaconda.org/tonyfast)\n",
    "- [Jean-Francois Puget](https://www.ibm.com/developerworks/community/profiles/html/profileView.do?userid=2700028FGP)"
   ]
  }
 ],
 "metadata": {
  "kernelspec": {
   "display_name": "Python 2",
   "language": "python",
   "name": "python2"
  },
  "language_info": {
   "codemirror_mode": {
    "name": "ipython",
    "version": 2
   },
   "file_extension": ".py",
   "mimetype": "text/x-python",
   "name": "python",
   "nbconvert_exporter": "python",
   "pygments_lexer": "ipython2",
   "version": "2.7.11+"
  }
 },
 "nbformat": 4,
 "nbformat_minor": 0
}
